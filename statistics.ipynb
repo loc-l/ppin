{
 "cells": [
  {
   "cell_type": "code",
   "execution_count": null,
   "metadata": {},
   "outputs": [],
   "source": [
    "import os\n",
    "from src.tools import load_label\n",
    "from src.config import NODE_TYPE\n",
    "\n",
    "def load_result(path):\n",
    "    results = {NODE_TYPE.PROCESS:set(), NODE_TYPE.NET:set(), NODE_TYPE.FILE: set()}\n",
    "    with open(f'{path}', 'r') as logf:\n",
    "        procs = logf.readline().strip()\n",
    "        for proc in procs.split(','):\n",
    "            if proc!='':\n",
    "                    results[NODE_TYPE.PROCESS].add(proc)\n",
    "        \n",
    "        files = logf.readline().strip()\n",
    "        for file in files.split(','):\n",
    "            if file!='':\n",
    "                    results[NODE_TYPE.FILE].add(file)\n",
    "        \n",
    "        nets = logf.readline().strip()\n",
    "        for net in nets.split(','):\n",
    "            if net!='':\n",
    "                    results[NODE_TYPE.NET].add(net)\n",
    "    return results[NODE_TYPE.FILE], results[NODE_TYPE.NET], results[NODE_TYPE.PROCESS] \n"
   ]
  },
  {
   "cell_type": "code",
   "execution_count": 26,
   "metadata": {},
   "outputs": [
    {
     "name": "stdout",
     "output_type": "stream",
     "text": [
      "==========CADETS===========\n",
      "6,\t2,\t3,\t0,\t1.00,\t0.40,\t0.57,\t3,\t4,\t0,\t1.00,\t0.43,\t0.60,\t5,\t1,\t0,\t1.00,\t0.83,\t0.91\n",
      "8,\t0,\t1,\t0,\t-,\t-,\t-,\t0,\t2,\t0,\t-,\t-,\t-,\t0,\t0,\t0,\t-,\t-,\t-\n",
      "11,\t1,\t3,\t0,\t1.00,\t0.25,\t0.40,\t2,\t4,\t1,\t0.67,\t0.33,\t0.44,\t3,\t1,\t0,\t1.00,\t0.75,\t0.86\n",
      "12,\t18,\t25,\t0,\t1.00,\t0.42,\t0.59,\t8,\t21,\t0,\t1.00,\t0.28,\t0.43,\t10,\t1,\t1,\t0.91,\t0.91,\t0.91\n",
      "13,\t4,\t4,\t0,\t1.00,\t0.50,\t0.67,\t6,\t7,\t0,\t1.00,\t0.46,\t0.63,\t5,\t1,\t0,\t1.00,\t0.83,\t0.91\n",
      "==========THEIA3===========\n",
      "10,\t46,\t1,\t3,\t0.94,\t0.98,\t0.96,\t3,\t6,\t0,\t1.00,\t0.33,\t0.50,\t2,\t0,\t2,\t0.50,\t1.00,\t0.67\n",
      "11,\t12,\t0,\t0,\t1.00,\t1.00,\t1.00,\t0,\t1,\t0,\t0.00,\t0.00,\t0.00,\t2,\t0,\t0,\t1.00,\t1.00,\t1.00\n",
      "12,\t60,\t36,\t5,\t0.92,\t0.62,\t0.75,\t4,\t65,\t0,\t1.00,\t0.06,\t0.11,\t5,\t0,\t0,\t1.00,\t1.00,\t1.00\n"
     ]
    }
   ],
   "source": [
    "root='./result/'\n",
    "def print_tb6_lines(data_name, root='.'):\n",
    "    attack_scene = load_label(data_name)\n",
    "    lines = []\n",
    "    for day in range(14):\n",
    "        if not os.path.exists(f'{root}/{data_name}/{day}/log.txt'):\n",
    "            continue\n",
    "        day = int(day)\n",
    "        results = {}\n",
    "        results[NODE_TYPE.FILE], results[NODE_TYPE.NET], results[NODE_TYPE.PROCESS] = load_result(f'{root}/{data_name}/{day}/log.txt')\n",
    "        \n",
    "        \n",
    "        if day not in attack_scene:\n",
    "            line = f'{day}\\t0\\t{len(results[NODE_TYPE.PROCESS])}\\t0\\t-\\t-\\t-\\t0\\t{len(results[NODE_TYPE.FILE])}\\t0\\t-\\t-\\t-\\t0\\t{len(results[NODE_TYPE.NET])}\\t0\\t-\\t-\\t-\\t'\n",
    "        else:\n",
    "            scene = attack_scene[day]\n",
    "            line = f'{day}\\t'\n",
    "            for nt in [NODE_TYPE.PROCESS,NODE_TYPE.FILE,NODE_TYPE.NET]:\n",
    "                re = results[nt]\n",
    "                ll = scene[nt]\n",
    "                tp = len(re&ll)\n",
    "                fp = len(re-ll)\n",
    "                fn = len(ll-re)\n",
    "                pre = tp/(tp+fp)\n",
    "                try:\n",
    "                    rec = tp/(tp+fn)\n",
    "                    f1 = 2*(pre*rec)/(pre+rec)\n",
    "                except:\n",
    "                        rec = 0\n",
    "                        f1 = 0\n",
    "                line += f'{tp}\\t{fp}\\t{fn}\\t{rec:.2f}\\t{pre:.2f}\\t{f1:.2f}\\t'\n",
    "        \n",
    "        lines.append(line)\n",
    "    \n",
    "    for line in lines:\n",
    "        day = line.split('\\t')[0]\n",
    "        other = line[line.find('\\t')+1:]\n",
    "        line = ''\n",
    "        if int(day) in attack_scene:\n",
    "            line+= day+',\\t'\n",
    "        else:\n",
    "            line+=day+',\\t'\n",
    "        line+=other.replace('\\t', ',\\t')\n",
    "        line=line[:-2]\n",
    "\n",
    "        print(line)\n",
    "\n",
    "print('==========CADETS===========')\n",
    "print_tb6_lines('cadets3', root=root)\n",
    "print('==========THEIA3===========')\n",
    "print_tb6_lines('theia3', root=root)"
   ]
  },
  {
   "cell_type": "code",
   "execution_count": null,
   "metadata": {},
   "outputs": [],
   "source": []
  }
 ],
 "metadata": {
  "kernelspec": {
   "display_name": "salient",
   "language": "python",
   "name": "python3"
  },
  "language_info": {
   "codemirror_mode": {
    "name": "ipython",
    "version": 3
   },
   "file_extension": ".py",
   "mimetype": "text/x-python",
   "name": "python",
   "nbconvert_exporter": "python",
   "pygments_lexer": "ipython3",
   "version": "3.8.13"
  }
 },
 "nbformat": 4,
 "nbformat_minor": 2
}
